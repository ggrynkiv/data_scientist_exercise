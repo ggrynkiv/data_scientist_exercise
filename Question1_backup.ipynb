{
 "cells": [
  {
   "cell_type": "markdown",
   "metadata": {},
   "source": [
    "\n",
    "# Approach \n",
    "\n",
    "#### Clean and Transform Data\n",
    "\n",
    "#### Classification Algorithms\n",
    "    \n",
    "    (1) Logit\n",
    "    (2) Desicion Tree\n",
    "    (3) Support Vector Machine\n",
    "    \n",
    "#### Train and validate Models\n",
    "#### Out of Sample Comparison\n",
    "    (1) False Negative Metric\n",
    "\n",
    "# Main Conclusion\n",
    "#### We have very small number of frauds => easy to overfit\n",
    "\n",
    "\n",
    "#### Tree  outperfroms in out-of-sample:\n",
    "- (1) simple logit \n",
    "- (2) SVM \n",
    "\n",
    "#### Tuning of SVM and tree is hard and tricky\n",
    "#### Ensembling approach might be the best, i.e. random forest"
   ]
  },
  {
   "cell_type": "code",
   "execution_count": 3,
   "metadata": {
    "collapsed": true
   },
   "outputs": [],
   "source": [
    "Data_folder = r'DataFolder'\n",
    "\n",
    "import numpy as np\n",
    "import pandas as pd\n",
    "import matplotlib.pyplot as plt\n",
    "from sklearn.decomposition import PCA\n",
    "from sklearn import tree\n",
    "from sklearn import linear_model\n",
    "from sklearn import svm\n",
    "\n",
    "%matplotlib inline"
   ]
  },
  {
   "cell_type": "code",
   "execution_count": 4,
   "metadata": {
    "collapsed": false
   },
   "outputs": [],
   "source": [
    "df_fraud = pd.read_csv(Data_folder + 'fraud_prep.csv')"
   ]
  },
  {
   "cell_type": "code",
   "execution_count": 5,
   "metadata": {
    "collapsed": false
   },
   "outputs": [
    {
     "data": {
      "text/plain": [
       "0    284315\n",
       "1       492\n",
       "Name: Class, dtype: int64"
      ]
     },
     "execution_count": 5,
     "metadata": {},
     "output_type": "execute_result"
    }
   ],
   "source": [
    "# Select label (for supervised learning)\n",
    "df_fraud.Class.value_counts()"
   ]
  },
  {
   "cell_type": "code",
   "execution_count": 6,
   "metadata": {
    "collapsed": false
   },
   "outputs": [
    {
     "name": "stdout",
     "output_type": "stream",
     "text": [
      "% of frauds is 0.17\n"
     ]
    }
   ],
   "source": [
    "print( \"% of frauds is \" + str( np.round( 100.*df_fraud.Class.value_counts()[1] / len(df_fraud), 2 ) ) )"
   ]
  },
  {
   "cell_type": "markdown",
   "metadata": {},
   "source": [
    "### Pre data cleaning:\n",
    "-  Demean and standardized data"
   ]
  },
  {
   "cell_type": "code",
   "execution_count": 7,
   "metadata": {
    "collapsed": false
   },
   "outputs": [],
   "source": [
    "df_features = df_fraud.iloc[:,:-1].copy(deep = True)\n",
    "mean = df_features.mean(axis = 0)\n",
    "std = df_features.std(axis = 0)\n",
    "df_features = df_features.sub (mean, axis = 1)\n",
    "df_features = df_features.div(std, axis = 1)"
   ]
  },
  {
   "cell_type": "markdown",
   "metadata": {},
   "source": [
    "- Drop string variables (nan are everywhere)"
   ]
  },
  {
   "cell_type": "code",
   "execution_count": 8,
   "metadata": {
    "collapsed": false
   },
   "outputs": [],
   "source": [
    "df_features = df_features.dropna(axis = 1)"
   ]
  },
  {
   "cell_type": "markdown",
   "metadata": {},
   "source": [
    "# (1) Multiple Classification algo"
   ]
  },
  {
   "cell_type": "code",
   "execution_count": 9,
   "metadata": {
    "collapsed": true
   },
   "outputs": [],
   "source": [
    "X = df_features.copy(deep = True)\n",
    "Y = df_fraud.Class"
   ]
  },
  {
   "cell_type": "markdown",
   "metadata": {},
   "source": [
    "- Divide data into training, cross validation and out of sample"
   ]
  },
  {
   "cell_type": "code",
   "execution_count": 10,
   "metadata": {
    "collapsed": false
   },
   "outputs": [],
   "source": [
    "def train_validate_test_split(df, train_percent=.4, validate_percent=.2, seed=1):\n",
    "    np.random.seed(seed)\n",
    "    perm = np.random.permutation(df.index)\n",
    "    m = len(df.index)\n",
    "    train_end = int(train_percent * m)\n",
    "    validate_end = int(validate_percent * m) + train_end\n",
    "    train = df.ix[perm[:train_end]]\n",
    "    validate = df.ix[perm[train_end:validate_end]]\n",
    "    test = df.ix[perm[validate_end:]]\n",
    "    return train, validate, test"
   ]
  },
  {
   "cell_type": "code",
   "execution_count": 11,
   "metadata": {
    "collapsed": false
   },
   "outputs": [],
   "source": [
    "X_train, X_validate, X_test = train_validate_test_split(df_features)\n",
    "\n",
    "# Find indexes for Y\n",
    "Y_train = Y.copy(deep = True)\n",
    "Y_validate = Y.copy(deep = True)\n",
    "Y_test = Y.copy(deep = True)\n",
    "\n",
    "Y_train = Y_train[X_train.index]\n",
    "Y_validate = Y_validate[X_validate.index]\n",
    "Y_test = Y_test[X_test.index]"
   ]
  },
  {
   "cell_type": "code",
   "execution_count": 12,
   "metadata": {
    "collapsed": false
   },
   "outputs": [
    {
     "name": "stdout",
     "output_type": "stream",
     "text": [
      "All three sets are representative\n",
      "% of frauds in train is 0.16\n",
      "% of frauds in validation is 0.18\n",
      "% of frauds in test is 0.18\n"
     ]
    }
   ],
   "source": [
    "print(\"All three sets are representative\")\n",
    "print( \"% of frauds in train is \" + str( np.round( 100.*Y_train.value_counts()[1] / len(Y_train), 2 ) ) )\n",
    "print( \"% of frauds in validation is \" + str( np.round( 100.*Y_validate.value_counts()[1] / len(Y_validate), 2 ) ) )\n",
    "print( \"% of frauds in test is \" + str( np.round( 100.*Y_test.value_counts()[1] / len(Y_test), 2 ) ) )"
   ]
  },
  {
   "cell_type": "markdown",
   "metadata": {},
   "source": [
    "#### Train all model on train set"
   ]
  },
  {
   "cell_type": "markdown",
   "metadata": {},
   "source": [
    "#### (a) Logit\n",
    "- Logit requires an arbitrary chosen threhsold for classification\n",
    "- Logit does not work well with False negative due to small number of frauds\n",
    "- Logit works perfectly with False positive"
   ]
  },
  {
   "cell_type": "code",
   "execution_count": 13,
   "metadata": {
    "collapsed": false
   },
   "outputs": [],
   "source": [
    "logit = linear_model.LogisticRegression(C=1e5)\n",
    "logit.fit(X_train, Y_train)\n",
    "in_sample_fit = logit.predict(X_train )"
   ]
  },
  {
   "cell_type": "code",
   "execution_count": 16,
   "metadata": {
    "collapsed": false
   },
   "outputs": [],
   "source": [
    "# Transform logit into classifier: if prob > tau then fraud\n",
    "threshold = 0.5\n",
    "decision = 1* (in_sample_fit > threshold)\n",
    "\n",
    "decision_df = pd.DataFrame(decision, columns={'Model'})\n",
    "Data_df = pd.DataFrame( Y_train.values, columns = {\"Data\"})\n",
    "Probability_df = decision_df.join(Data_df) # Column 0 = model, Column 1 = data"
   ]
  },
  {
   "cell_type": "markdown",
   "metadata": {},
   "source": [
    "#### Main metrics of interests:"
   ]
  },
  {
   "cell_type": "code",
   "execution_count": 17,
   "metadata": {
    "collapsed": false
   },
   "outputs": [
    {
     "name": "stdout",
     "output_type": "stream",
     "text": [
      "Logit: False Negative 0.413978494624\n",
      "Logit: False Positive 0.0\n"
     ]
    }
   ],
   "source": [
    "# When we have fraud in the data\n",
    "tmp_df = Probability_df.copy(deep = True)\n",
    "tmp_df = tmp_df.loc[ tmp_df.iloc[:,1] >0,:]   # data shows fraud\n",
    "Prob = 1.*(tmp_df.iloc[:,0] == 0).sum()/ len(tmp_df)\n",
    "print(\"Logit: False Negative \" + str(Prob) )\n",
    "\n",
    "# When we do not have fraud in the data\n",
    "tmp_df = Probability_df.copy(deep = True)\n",
    "tmp_df = tmp_df.loc[ tmp_df.iloc[:,1] ==0,:]   # data shows no fraud\n",
    "Prob = 1.*(tmp_df.iloc[:,0] == 1).sum()/ len(tmp_df)\n",
    "print(\"Logit: False Positive \" + str(np.round(Prob,3)) )"
   ]
  },
  {
   "cell_type": "markdown",
   "metadata": {},
   "source": [
    "#### (b) Tree\n",
    "- Tree does not require threhsold to make a decision\n",
    "- Tree works perfectly, but it can be due to overfitting (see it later on out of sample data)"
   ]
  },
  {
   "cell_type": "code",
   "execution_count": 18,
   "metadata": {
    "collapsed": false
   },
   "outputs": [],
   "source": [
    "tree_model = tree.DecisionTreeClassifier()\n",
    "tree_model.fit(X_train, Y_train)\n",
    "decision = tree_model.predict(X_train)"
   ]
  },
  {
   "cell_type": "code",
   "execution_count": 19,
   "metadata": {
    "collapsed": true
   },
   "outputs": [],
   "source": [
    "decision_df = pd.DataFrame(decision, columns={'Model'})\n",
    "Data_df = pd.DataFrame( Y_train.values, columns = {\"Data\"})\n",
    "Probability_df = decision_df.join(Data_df) # Column 0 = model, Column 1 = data"
   ]
  },
  {
   "cell_type": "markdown",
   "metadata": {},
   "source": [
    "#### Main metrics of interests:"
   ]
  },
  {
   "cell_type": "code",
   "execution_count": 20,
   "metadata": {
    "collapsed": false
   },
   "outputs": [
    {
     "name": "stdout",
     "output_type": "stream",
     "text": [
      "Tree: False Negative 0.0\n",
      "Tree: False Positive 0.0\n"
     ]
    }
   ],
   "source": [
    "# When we have fraud in the data\n",
    "tmp_df = Probability_df.copy(deep = True)\n",
    "tmp_df = tmp_df.loc[ tmp_df.iloc[:,1] >0,:]   # data shows fraud\n",
    "Prob = 1.*(tmp_df.iloc[:,0] == 0).sum()/ len(tmp_df)\n",
    "print(\"Tree: False Negative \" + str(Prob) )\n",
    "\n",
    "# When we do not have fraud in the data\n",
    "tmp_df = Probability_df.copy(deep = True)\n",
    "tmp_df = tmp_df.loc[ tmp_df.iloc[:,1] ==0,:]   # data shows no fraud\n",
    "Prob = 1.*(tmp_df.iloc[:,0] == 1).sum()/ len(tmp_df)\n",
    "print(\"Tree: False Positive \" + str(np.round(Prob,3)) )"
   ]
  },
  {
   "cell_type": "markdown",
   "metadata": {},
   "source": [
    "#### (c) SVM\n",
    "- SVM does not require threhsold to make a decision\n",
    "- SVM has problem with False negative; it is better than logit but worse than tree "
   ]
  },
  {
   "cell_type": "code",
   "execution_count": 31,
   "metadata": {
    "collapsed": true
   },
   "outputs": [],
   "source": [
    "svm_model = svm.SVC()\n",
    "svm_model.fit(X_train, Y_train)\n",
    "decision = svm_model.predict(X_train)"
   ]
  },
  {
   "cell_type": "code",
   "execution_count": 32,
   "metadata": {
    "collapsed": true
   },
   "outputs": [],
   "source": [
    "decision_df = pd.DataFrame(decision, columns={'Model'})\n",
    "Data_df = pd.DataFrame( Y_train.values, columns = {\"Data\"})\n",
    "Probability_df = decision_df.join(Data_df) # Column 0 = model, Column 1 = data"
   ]
  },
  {
   "cell_type": "markdown",
   "metadata": {},
   "source": [
    "#### Main metrics of interests:"
   ]
  },
  {
   "cell_type": "code",
   "execution_count": 35,
   "metadata": {
    "collapsed": false
   },
   "outputs": [
    {
     "name": "stdout",
     "output_type": "stream",
     "text": [
      "SVM: False Negative 0.194\n",
      "SVM: False Positive 0.0\n"
     ]
    }
   ],
   "source": [
    "# When we have fraud in the data\n",
    "tmp_df = Probability_df.copy(deep = True)\n",
    "tmp_df = tmp_df.loc[ tmp_df.iloc[:,1] >0,:]   # data shows fraud\n",
    "Prob = 1.*(tmp_df.iloc[:,0] == 0).sum()/ len(tmp_df)\n",
    "print(\"SVM: False Negative \" + str(np.round(Prob,3) ))\n",
    "\n",
    "# When we do not have fraud in the data\n",
    "tmp_df = Probability_df.copy(deep = True)\n",
    "tmp_df = tmp_df.loc[ tmp_df.iloc[:,1] ==0,:]   # data shows no fraud\n",
    "Prob = 1.*(tmp_df.iloc[:,0] == 1).sum()/ len(tmp_df)\n",
    "print(\"SVM: False Positive \" + str(np.round(Prob,3)) )"
   ]
  },
  {
   "cell_type": "markdown",
   "metadata": {},
   "source": [
    "# (2) - (3)\n",
    "#### Out of Sample"
   ]
  },
  {
   "cell_type": "markdown",
   "metadata": {},
   "source": [
    "#### Logit - out of sample\n",
    "- Results are consistent with insample training"
   ]
  },
  {
   "cell_type": "code",
   "execution_count": 15,
   "metadata": {
    "collapsed": false
   },
   "outputs": [],
   "source": [
    "X_joint = X_train.append( X_validate) \n",
    "Y_joint = pd.DataFrame(np.hstack((Y_train.values, Y_validate.values)))"
   ]
  },
  {
   "cell_type": "code",
   "execution_count": null,
   "metadata": {
    "collapsed": true
   },
   "outputs": [],
   "source": [
    "logit = linear_model.LogisticRegression(C=1e5)\n",
    "logit.fit(X_joint, Y_joint)\n",
    "in_sample_fit = logit.predict(X_test )"
   ]
  },
  {
   "cell_type": "code",
   "execution_count": 51,
   "metadata": {
    "collapsed": false
   },
   "outputs": [],
   "source": [
    "# Transform logit into classifier: if prob > tau then fraud\n",
    "threshold = 0.5\n",
    "decision = 1* (in_sample_fit > threshold)\n",
    "\n",
    "decision_df = pd.DataFrame(decision, columns={'Model'})\n",
    "Data_df = pd.DataFrame( Y_test.values, columns = {\"Data\"})\n",
    "Probability_df = decision_df.join(Data_df) # Column 0 = model, Column 1 = data"
   ]
  },
  {
   "cell_type": "code",
   "execution_count": 52,
   "metadata": {
    "collapsed": false
   },
   "outputs": [
    {
     "name": "stdout",
     "output_type": "stream",
     "text": [
      "Logit: False Negative 0.381188118812\n",
      "Logit: False Positive 0.0\n"
     ]
    }
   ],
   "source": [
    "# When we have fraud in the data\n",
    "tmp_df = Probability_df.copy(deep = True)\n",
    "tmp_df = tmp_df.loc[ tmp_df.iloc[:,1] >0,:]   # data shows fraud\n",
    "Prob = 1.*(tmp_df.iloc[:,0] == 0).sum()/ len(tmp_df)\n",
    "print(\"Logit: False Negative \" + str(Prob) )\n",
    "\n",
    "# When we do not have fraud in the data\n",
    "tmp_df = Probability_df.copy(deep = True)\n",
    "tmp_df = tmp_df.loc[ tmp_df.iloc[:,1] ==0,:]   # data shows no fraud\n",
    "Prob = 1.*(tmp_df.iloc[:,0] == 1).sum()/ len(tmp_df)\n",
    "print(\"Logit: False Positive \" + str(np.round(Prob,3)) )"
   ]
  },
  {
   "cell_type": "markdown",
   "metadata": {},
   "source": [
    "#### Tune Tree\n",
    "- It requires a lot of running time\n",
    "- Now, results are less impressive but still better than logit = > can work on more tuning (different parameters: depth of the tree, number of samples at internal nodes, maximum number of features)"
   ]
  },
  {
   "cell_type": "code",
   "execution_count": 60,
   "metadata": {
    "collapsed": false
   },
   "outputs": [
    {
     "name": "stdout",
     "output_type": "stream",
     "text": [
      "0\n",
      "1\n",
      "2\n"
     ]
    }
   ],
   "source": [
    "min_samples_leaf_loop = [6,2,3] # Change number of samples at the external node\n",
    "r_squared_loop = np.zeros(len(min_samples_leaf_loop))\n",
    "\n",
    "for i in range(0, len(min_samples_leaf_loop)): # Loop over C\n",
    "    print(i)\n",
    "    #Train for fied C\n",
    "    tree_model = tree.DecisionTreeClassifier(min_samples_leaf = min_samples_leaf_loop[i])\n",
    "    tree_model.fit(X_train, Y_train)\n",
    "    \n",
    "    # Save loss function\n",
    "    r_squared_loop[i] = tree_model.score(X_validate, Y_validate)\n",
    "\n",
    "    \n",
    "idx = np.argmax(r_squared_loop)\n",
    "min_samples_leaf_optimal_tree = min_samples_leaf_loop[idx] \n"
   ]
  },
  {
   "cell_type": "code",
   "execution_count": 54,
   "metadata": {
    "collapsed": true
   },
   "outputs": [],
   "source": [
    "# # Final result\n",
    "tree_model = tree.DecisionTreeClassifier(min_samples_leaf = min_samples_leaf_optimal_tree)\n",
    "tree_model.fit(X_train, Y_train)\n",
    "decision = tree_model.predict(X_test)\n",
    "\n",
    "decision_df = pd.DataFrame(decision, columns={'Model'})\n",
    "Data_df = pd.DataFrame( Y_test.values, columns = {\"Data\"})\n",
    "Probability_df = decision_df.join(Data_df) # Column 0 = model, Column 1 = data"
   ]
  },
  {
   "cell_type": "code",
   "execution_count": 55,
   "metadata": {
    "collapsed": false
   },
   "outputs": [
    {
     "name": "stdout",
     "output_type": "stream",
     "text": [
      "Tree: False Negative 0.252475247525\n",
      "Tree: False Positive 0.0\n"
     ]
    }
   ],
   "source": [
    "# When we have fraud in the data\n",
    "tmp_df = Probability_df.copy(deep = True)\n",
    "tmp_df = tmp_df.loc[ tmp_df.iloc[:,1] >0,:]   # data shows fraud\n",
    "Prob = 1.*(tmp_df.iloc[:,0] == 0).sum()/ len(tmp_df)\n",
    "print(\"Tree: False Negative \" + str(Prob) )\n",
    "\n",
    "# When we do not have fraud in the data\n",
    "tmp_df = Probability_df.copy(deep = True)\n",
    "tmp_df = tmp_df.loc[ tmp_df.iloc[:,1] ==0,:]   # data shows no fraud\n",
    "Prob = 1.*(tmp_df.iloc[:,0] == 1).sum()/ len(tmp_df)\n",
    "print(\"Tree: False Positive \" + str(np.round(Prob,3)) )"
   ]
  },
  {
   "cell_type": "markdown",
   "metadata": {},
   "source": [
    "#### Tune SVM\n",
    "- It requires a lot of running time (the most time consuming process)\n",
    "- Results are less impressive than in training sample\n",
    "- Does not beat Tree, but is better than logit"
   ]
  },
  {
   "cell_type": "code",
   "execution_count": 56,
   "metadata": {
    "collapsed": false
   },
   "outputs": [
    {
     "name": "stdout",
     "output_type": "stream",
     "text": [
      "0\n",
      "1\n"
     ]
    }
   ],
   "source": [
    "C_loop = [1,2] # Change penalty\n",
    "r_squared_loop = np.zeros(len(C_loop))\n",
    "\n",
    "for i in range(0, len(C_loop)): # Loop over C\n",
    "    print(i)\n",
    "    # Train for fied C\n",
    "    svm_model = svm.SVC(C = C_loop[i])\n",
    "    svm_model.fit(X_train, Y_train)\n",
    "    in_sample_fit = svm_model.predict(X_train)\n",
    "    \n",
    "    # Save loss function\n",
    "    r_squared_loop[i] = svm_model.score(X_validate, Y_validate)\n",
    "\n",
    "    \n",
    "idx = np.argmax(r_squared_loop)\n",
    "C_optimal_SVM = C_loop[idx]    "
   ]
  },
  {
   "cell_type": "code",
   "execution_count": 57,
   "metadata": {
    "collapsed": true
   },
   "outputs": [],
   "source": [
    "# # Final result\n",
    "svm_model = svm.SVC(C = C_optimal_SVM)\n",
    "svm_model.fit(X_train, Y_train)\n",
    "decision = svm_model.predict(X_test)\n",
    "\n",
    "decision_df = pd.DataFrame(decision, columns={'Model'})\n",
    "Data_df = pd.DataFrame( Y_test.values, columns = {\"Data\"})\n",
    "Probability_df = decision_df.join(Data_df) # Column 0 = model, Column 1 = data"
   ]
  },
  {
   "cell_type": "code",
   "execution_count": 58,
   "metadata": {
    "collapsed": false
   },
   "outputs": [
    {
     "name": "stdout",
     "output_type": "stream",
     "text": [
      "Tree: False Negative 0.331683168317\n",
      "Tree: False Positive 0.0\n"
     ]
    }
   ],
   "source": [
    "# When we have fraud in the data\n",
    "tmp_df = Probability_df.copy(deep = True)\n",
    "tmp_df = tmp_df.loc[ tmp_df.iloc[:,1] >0,:]   # data shows fraud\n",
    "Prob = 1.*(tmp_df.iloc[:,0] == 0).sum()/ len(tmp_df)\n",
    "print(\"Tree: False Negative \" + str(Prob) )\n",
    "\n",
    "# When we do not have fraud in the data\n",
    "tmp_df = Probability_df.copy(deep = True)\n",
    "tmp_df = tmp_df.loc[ tmp_df.iloc[:,1] ==0,:]   # data shows no fraud\n",
    "Prob = 1.*(tmp_df.iloc[:,0] == 1).sum()/ len(tmp_df)\n",
    "print(\"Tree: False Positive \" + str(np.round(Prob,3)) )"
   ]
  },
  {
   "cell_type": "markdown",
   "metadata": {},
   "source": [
    "# (4) Bonus:\n",
    "- We should use mixture of models to identify frauduent transaction:\n",
    "\n",
    "a) Use PCA to identify factor structure if it exists\n",
    "\n",
    "b) Fit mixture for these PCA (otherwise dimension is too high for mixture model)\n",
    "\n",
    "- Alternatively, clustering approach (i.e. k-nearest neighbors)"
   ]
  }
 ],
 "metadata": {
  "kernelspec": {
   "display_name": "Python 2",
   "language": "python",
   "name": "python2"
  },
  "language_info": {
   "codemirror_mode": {
    "name": "ipython",
    "version": 2
   },
   "file_extension": ".py",
   "mimetype": "text/x-python",
   "name": "python",
   "nbconvert_exporter": "python",
   "pygments_lexer": "ipython2",
   "version": "2.7.13"
  }
 },
 "nbformat": 4,
 "nbformat_minor": 0
}
