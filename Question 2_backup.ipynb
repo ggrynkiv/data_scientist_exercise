{
 "cells": [
  {
   "cell_type": "markdown",
   "metadata": {
    "collapsed": false
   },
   "source": [
    "# Approach\n",
    "\n",
    "### - Clean and Transform Data \n",
    "\n",
    "### - Preliminary Analysis\n",
    "      (1) Pairwise Correlation\n",
    "      \n",
    "### - Reduction Techiniques\n",
    "     (1) PCA\n",
    "     (2) LASSO\n",
    "     (3) Ridge\n",
    "### - Mulptiple Regression for In-Sample and Out-Sample Comparisson\n",
    "     (1) Naive OLS\n",
    "     (1) PCA+OLS\n",
    "     (2) LASSO\n",
    "     (3) Ridge\n",
    "     \n",
    "\n",
    "\n",
    "# Main Conclusion\n",
    "\n",
    "#### Joint shrinkage procedure (LASSO) with hard penalty outperfroms out-of-sample:\n",
    "- (1) two steps shrinkage procedure (PCA OLS)\n",
    "- (2) unconstrained model (Naive OLS)\n",
    "- (3) joint shrinkage with soft penalty (Ridge)"
   ]
  },
  {
   "cell_type": "code",
   "execution_count": 2,
   "metadata": {
    "collapsed": false
   },
   "outputs": [],
   "source": [
    "Data_folder = r'DataFolder'\n",
    "\n",
    "import numpy as np\n",
    "import pandas as pd\n",
    "import matplotlib.pyplot as plt\n",
    "from sklearn.decomposition import PCA\n",
    "%matplotlib inline\n"
   ]
  },
  {
   "cell_type": "code",
   "execution_count": 3,
   "metadata": {
    "collapsed": true
   },
   "outputs": [],
   "source": [
    "df_Crime = pd.read_csv(Data_folder + 'crime_prep.csv')"
   ]
  },
  {
   "cell_type": "markdown",
   "metadata": {},
   "source": [
    "# (1) Identify the most likely correlated variables with the target"
   ]
  },
  {
   "cell_type": "markdown",
   "metadata": {},
   "source": [
    "### Pre data cleaning:\n",
    "-  Demean and standardized data"
   ]
  },
  {
   "cell_type": "code",
   "execution_count": null,
   "metadata": {
    "collapsed": true
   },
   "outputs": [],
   "source": [
    "# # normalize data\n",
    "# from sklearn import preprocessing\n",
    "# data_scaled = pd.DataFrame(preprocessing.scale(df),columns = df.columns)"
   ]
  },
  {
   "cell_type": "code",
   "execution_count": null,
   "metadata": {
    "collapsed": true
   },
   "outputs": [],
   "source": [
    "df_features = df_Crime.copy(deep = True)\n",
    "mean = df_features.mean(axis = 0)\n",
    "std = df_features.std(axis = 0)\n",
    "df_features = df_features.sub (mean, axis = 1)\n",
    "df_features = df_features.div(std, axis = 1)"
   ]
  },
  {
   "cell_type": "markdown",
   "metadata": {},
   "source": [
    "- Drop string variables (nan are everywhere)"
   ]
  },
  {
   "cell_type": "code",
   "execution_count": 4,
   "metadata": {
    "collapsed": false
   },
   "outputs": [],
   "source": [
    "df_features = df_features.dropna(axis = 1)"
   ]
  },
  {
   "cell_type": "markdown",
   "metadata": {},
   "source": [
    "Create loss function \n"
   ]
  },
  {
   "cell_type": "code",
   "execution_count": 5,
   "metadata": {
    "collapsed": true
   },
   "outputs": [],
   "source": [
    "methods=['Naive_OLS', 'PCA', 'LASSO', 'Ridge','ElasticNet'];\n",
    "evaluation=['In_Sample', 'Out_Sample']\n",
    "zero_data = np.zeros(shape=(len(evaluation),len(methods)))\n",
    "R2 = pd.DataFrame(zero_data,index=evaluation, columns=methods)"
   ]
  },
  {
   "cell_type": "markdown",
   "metadata": {},
   "source": [
    "- Compute pairwise correlation between target and other variables"
   ]
  },
  {
   "cell_type": "code",
   "execution_count": 6,
   "metadata": {
    "collapsed": false
   },
   "outputs": [
    {
     "data": {
      "image/png": "[encoded data removed]",
      "text/plain": [
       "<matplotlib.figure.Figure at 0x11eeb4fd0>"
      ]
     },
     "metadata": {},
     "output_type": "display_data"
    }
   ],
   "source": [
    "corr = df_features.corr()\n",
    "corr1=corr.loc['target',:]\n",
    "\n",
    "corr = corr.sort_values(by = 'target', ascending= False)\n",
    "plt.plot(corr['target'].values, label=\"corr\")\n",
    "plt.show()"
   ]
  },
  {
   "cell_type": "markdown",
   "metadata": {},
   "source": [
    "- Select only relevant features based on the pairwise correlarion"
   ]
  },
  {
   "cell_type": "code",
   "execution_count": 7,
   "metadata": {
    "collapsed": false
   },
   "outputs": [
    {
     "name": "stdout",
     "output_type": "stream",
     "text": [
      "Significant target variables are ['v_cont_55' 'v_cont_48' 'v_cont_49']\n",
      "Their correaltions are [ 0.74 -0.71 -0.74]\n"
     ]
    }
   ],
   "source": [
    "threshold_corr = 0.7\n",
    "corr_significant = corr[\"target\"].copy (deep =True)\n",
    "corr_significant = corr_significant.loc[(corr_significant.values > threshold_corr) | \\\n",
    "                                       (corr_significant.values < -threshold_corr)]\n",
    "print(\"Significant target variables are \" + str(corr_significant.index[1:].values) )\n",
    "print(\"Their correaltions are \" + str( np.round(corr_significant[1:].values,2 ) ) )\n"
   ]
  },
  {
   "cell_type": "markdown",
   "metadata": {},
   "source": [
    "# (2) Reduction techniques "
   ]
  },
  {
   "cell_type": "markdown",
   "metadata": {},
   "source": [
    "- Extract uncorrelated features from PCA"
   ]
  },
  {
   "cell_type": "code",
   "execution_count": 8,
   "metadata": {
    "collapsed": false
   },
   "outputs": [
    {
     "name": "stdout",
     "output_type": "stream",
     "text": [
      "[ 0.25  0.17  0.09  0.07  0.06  0.04  0.03  0.03  0.02  0.02]\n",
      "We explain 0.78\n"
     ]
    }
   ],
   "source": [
    "X = df_features.ix[:,1:]\n",
    "Y = df_features[\"target\"]\n",
    "Num_components = 10\n",
    "pca = PCA(n_components = Num_components)\n",
    "pca.fit(X)\n",
    "cum_variance_explained = pca.explained_variance_ratio_\n",
    "print(np.round(pca.explained_variance_ratio_,2))\n",
    "print(\"We explain \" + str( np.round(pca.explained_variance_ratio_.sum(),2 ) ) )"
   ]
  },
  {
   "cell_type": "markdown",
   "metadata": {},
   "source": [
    "- Save principal comoments for regression -we have only 10 regressors"
   ]
  },
  {
   "cell_type": "code",
   "execution_count": 9,
   "metadata": {
    "collapsed": false
   },
   "outputs": [],
   "source": [
    "PCA_scores = pca.fit_transform(X)"
   ]
  },
  {
   "cell_type": "markdown",
   "metadata": {},
   "source": [
    "# (3) Multiple regregressions"
   ]
  },
  {
   "cell_type": "code",
   "execution_count": 10,
   "metadata": {
    "collapsed": true
   },
   "outputs": [],
   "source": [
    "from sklearn import datasets, linear_model\n",
    "from sklearn.metrics import mean_squared_error, r2_score"
   ]
  },
  {
   "cell_type": "markdown",
   "metadata": {},
   "source": [
    "### Naive OLS"
   ]
  },
  {
   "cell_type": "code",
   "execution_count": 11,
   "metadata": {
    "collapsed": false
   },
   "outputs": [
    {
     "name": "stdout",
     "output_type": "stream",
     "text": [
      "R_squared for Naive OLS 0.7\n"
     ]
    }
   ],
   "source": [
    "Naive_OLS = linear_model.LinearRegression()\n",
    "Naive_OLS.fit(X.values, Y.values)\n",
    "in_sample_fit = Naive_OLS.predict(X)\n",
    "R2.loc['In_Sample','Naive_OLS']=np.round(r2_score(Y.values, in_sample_fit),2);\n",
    "print(\"R_squared for Naive OLS \"  + str( np.round(r2_score(Y.values, in_sample_fit),2) ) )"
   ]
  },
  {
   "cell_type": "markdown",
   "metadata": {},
   "source": [
    "### Run OLS for PCA scores\n"
   ]
  },
  {
   "cell_type": "code",
   "execution_count": 12,
   "metadata": {
    "collapsed": false
   },
   "outputs": [
    {
     "name": "stdout",
     "output_type": "stream",
     "text": [
      "('Coefficients:', array([-0.12581927, -0.06632266,  0.06312597,  0.07194161, -0.02411654,\n",
      "        0.0225718 , -0.0853843 ,  0.13874386,  0.01237501, -0.05333591]))\n",
      "R_squared for PCA OLS 0.64\n"
     ]
    },
    {
     "data": {
      "text/html": [
       "<div>\n",
       "<table border=\"1\" class=\"dataframe\">\n",
       "  <thead>\n",
       "    <tr style=\"text-align: right;\">\n",
       "      <th></th>\n",
       "      <th>Naive_OLS</th>\n",
       "      <th>PCA</th>\n",
       "      <th>LASSO</th>\n",
       "      <th>Ridge</th>\n",
       "      <th>ElasticNet</th>\n",
       "    </tr>\n",
       "  </thead>\n",
       "  <tbody>\n",
       "    <tr>\n",
       "      <th>In_Sample</th>\n",
       "      <td>0.7</td>\n",
       "      <td>0.64</td>\n",
       "      <td>0.0</td>\n",
       "      <td>0.0</td>\n",
       "      <td>0.0</td>\n",
       "    </tr>\n",
       "    <tr>\n",
       "      <th>Out_Sample</th>\n",
       "      <td>0.0</td>\n",
       "      <td>0.00</td>\n",
       "      <td>0.0</td>\n",
       "      <td>0.0</td>\n",
       "      <td>0.0</td>\n",
       "    </tr>\n",
       "  </tbody>\n",
       "</table>\n",
       "</div>"
      ],
      "text/plain": [
       "            Naive_OLS   PCA  LASSO  Ridge  ElasticNet\n",
       "In_Sample         0.7  0.64    0.0    0.0         0.0\n",
       "Out_Sample        0.0  0.00    0.0    0.0         0.0"
      ]
     },
     "execution_count": 12,
     "metadata": {},
     "output_type": "execute_result"
    }
   ],
   "source": [
    "OLS = linear_model.LinearRegression()\n",
    "OLS.fit(PCA_scores, Y)\n",
    "in_sample_fit = OLS.predict(PCA_scores)\n",
    "R2.loc['In_Sample','PCA']=np.round(r2_score(Y.values, in_sample_fit),2);\n",
    "print('Coefficients:', OLS.coef_)\n",
    "print(\"R_squared for PCA OLS \"  + str( np.round(r2_score(Y.values, in_sample_fit),2) ) )\n",
    "R2"
   ]
  },
  {
   "cell_type": "markdown",
   "metadata": {},
   "source": [
    "### Lasso"
   ]
  },
  {
   "cell_type": "code",
   "execution_count": 13,
   "metadata": {
    "collapsed": true
   },
   "outputs": [],
   "source": [
    "from sklearn import linear_model"
   ]
  },
  {
   "cell_type": "markdown",
   "metadata": {},
   "source": [
    "#### Loop over alpha"
   ]
  },
  {
   "cell_type": "code",
   "execution_count": 14,
   "metadata": {
    "collapsed": false
   },
   "outputs": [
    {
     "name": "stdout",
     "output_type": "stream",
     "text": [
      "LASSO estimates \n",
      "\n",
      "[-0.         -0.00127588  0.         -0.         -0.          0.          0.\n",
      " -0.          0.          0.         -0.          0.          0.          0.\n",
      " -0.         -0.         -0.         -0.          0.          0.         -0.\n",
      " -0.         -0.          0.         -0.         -0.          0.         -0.\n",
      "  0.          0.          0.          0.         -0.          0.         -0.\n",
      " -0.         -0.          0.         -0.          0.04180375  0.          0.\n",
      "  0.          0.         -0.         -0.2777602   0.         -0.         -0.\n",
      " -0.         -0.          0.          0.18348013  0.          0.          0.\n",
      "  0.         -0.          0.          0.          0.          0.          0.\n",
      " -0.          0.          0.          0.          0.          0.         -0.\n",
      "  0.         -0.          0.02661469  0.         -0.          0.07809521\n",
      " -0.         -0.          0.         -0.18349572 -0.          0.          0.\n",
      "  0.          0.          0.          0.         -0.          0.          0.\n",
      "  0.          0.          0.          0.         -0.          0.          0.0221054\n",
      "  0.         -0.         -0.          0.        ]\n",
      "Number of non-zero estimates is 8\n",
      "R_squared for LASSO 0.62\n"
     ]
    }
   ],
   "source": [
    "LASSO = linear_model.Lasso(alpha = 0.1)\n",
    "LASSO.fit(X, Y)\n",
    "print(\"LASSO estimates \\n\")\n",
    "print(LASSO.coef_)\n",
    "print(\"Number of non-zero estimates is \" + str( (1* LASSO.coef_ >0).sum() + (1* LASSO.coef_ <0).sum() ) )\n",
    "print(\"R_squared for LASSO \"+ str( np.round(LASSO.score(X,Y), 2) ) )"
   ]
  },
  {
   "cell_type": "markdown",
   "metadata": {},
   "source": [
    "### Ridge"
   ]
  },
  {
   "cell_type": "code",
   "execution_count": 15,
   "metadata": {
    "collapsed": false
   },
   "outputs": [
    {
     "name": "stdout",
     "output_type": "stream",
     "text": [
      "R_squared for Ridge 0.7\n"
     ]
    }
   ],
   "source": [
    "Ridge = linear_model.Ridge(alpha = 0.05)\n",
    "Ridge.fit(X, Y)\n",
    "# print(\"Ridge estimates \\n\")\n",
    "# print(Ridge.coef_)\n",
    "print(\"R_squared for Ridge \"+ str( np.round(Ridge.score(X,Y), 2) ) )"
   ]
  },
  {
   "cell_type": "markdown",
   "metadata": {},
   "source": [
    "- Elastic net"
   ]
  },
  {
   "cell_type": "code",
   "execution_count": 16,
   "metadata": {
    "collapsed": false
   },
   "outputs": [
    {
     "name": "stdout",
     "output_type": "stream",
     "text": [
      "R_squared for Elastic_net 0.65\n"
     ]
    }
   ],
   "source": [
    "Elastic_net = linear_model.ElasticNet(alpha = 0.05, l1_ratio = 1)\n",
    "Elastic_net.fit(X, Y)\n",
    "# print(\"Ridge estimates \\n\")\n",
    "# print(Ridge.coef_)\n",
    "print(\"R_squared for Elastic_net \"+ str( np.round(Elastic_net.score(X,Y), 2) ) )"
   ]
  },
  {
   "cell_type": "markdown",
   "metadata": {},
   "source": [
    "# (4) In sample performance"
   ]
  },
  {
   "cell_type": "code",
   "execution_count": null,
   "metadata": {
    "collapsed": true
   },
   "outputs": [],
   "source": []
  },
  {
   "cell_type": "markdown",
   "metadata": {},
   "source": [
    "### Loop over alpha for each method"
   ]
  },
  {
   "cell_type": "markdown",
   "metadata": {},
   "source": [
    "- Split data into in sample and out of sample"
   ]
  },
  {
   "cell_type": "code",
   "execution_count": 17,
   "metadata": {
    "collapsed": false
   },
   "outputs": [],
   "source": [
    "training_size = 1500\n",
    "X_training = np.array(X[0:training_size:])\n",
    "X_out_sample = np.array(X[training_size:])\n",
    "\n",
    "Y_out_sample = np.array(Y[training_size:]) \n",
    "Y_training = np.array(Y[0:training_size:])"
   ]
  },
  {
   "cell_type": "markdown",
   "metadata": {},
   "source": [
    "- Tune LASSO"
   ]
  },
  {
   "cell_type": "code",
   "execution_count": 18,
   "metadata": {
    "collapsed": false
   },
   "outputs": [
    {
     "name": "stdout",
     "output_type": "stream",
     "text": [
      "0.679124535117\n",
      "0.658295250286\n",
      "0.625582493416\n",
      "0.571053605814\n",
      "0.511391383206\n",
      "0.433603253221\n",
      "Number of non-zero estimates is 34\n",
      "R_squared for LASSO 0.68\n"
     ]
    }
   ],
   "source": [
    "alpha_loop = [0.01, 0.05, 0.1, 0.2, 0.3, 0.4]\n",
    "r_squared_loop = np.zeros(len(alpha_loop) )\n",
    "\n",
    "for i in range(0, len(alpha_loop)): # Loop over alpha\n",
    "    \n",
    "    # Train for fied alpha\n",
    "    LASSO = linear_model.Lasso(alpha = alpha_loop[i])\n",
    "    LASSO.fit(X_training, Y_training)\n",
    "    \n",
    "    # Save loss function\n",
    "    print(LASSO.score(X_training,Y_training))\n",
    "    r_squared_loop[i] = LASSO.score(X_training,Y_training)\n",
    "    \n",
    "idx = np.argmax(r_squared_loop)\n",
    "alpha_optimal_LASSO = alpha_loop[idx] \n",
    "\n",
    "# Run LASSO with chosen alpha\n",
    "LASSO = linear_model.Lasso(alpha = alpha_optimal_LASSO)\n",
    "LASSO.fit(X_training, Y_training)\n",
    "R2.loc['In_Sample','LASSO']=np.round(LASSO.score(X_training,Y_training), 2) \n",
    "# print(\"LASSO estimates \\n\")\n",
    "# print(LASSO.coef_)\n",
    "print(\"Number of non-zero estimates is \" + str( (1* LASSO.coef_ >0).sum() + (1* LASSO.coef_ <0).sum() ) )\n",
    "print(\"R_squared for LASSO \"+ str( np.round(LASSO.score(X_training,Y_training), 2) ) )\n",
    "\n"
   ]
  },
  {
   "cell_type": "markdown",
   "metadata": {},
   "source": [
    "- Tune Ridge"
   ]
  },
  {
   "cell_type": "code",
   "execution_count": 19,
   "metadata": {
    "collapsed": false
   },
   "outputs": [
    {
     "name": "stdout",
     "output_type": "stream",
     "text": [
      "0.706989153823\n",
      "0.706987284613\n",
      "0.706981946114\n",
      "0.706963589187\n",
      "0.706937971604\n",
      "0.706907572561\n",
      "R_squared for Ridge 0.71\n"
     ]
    }
   ],
   "source": [
    "alpha_loop = [0.01, 0.05, 0.1, 0.2, 0.3, 0.4]\n",
    "r_squared_loop = np.zeros(len(alpha_loop) )\n",
    "\n",
    "for i in range(0, len(alpha_loop)): # Loop over alpha\n",
    "    \n",
    "    # Train for fied alpha\n",
    "    Ridge = linear_model.Ridge(alpha = alpha_loop[i])\n",
    "    Ridge.fit(X_training, Y_training)\n",
    "    \n",
    "    # Save loss function\n",
    "    print(Ridge.score(X_training,Y_training))\n",
    "    r_squared_loop[i] = Ridge.score(X_training,Y_training)\n",
    "    \n",
    "idx = np.argmax(r_squared_loop)\n",
    "alpha_optimal_Ridge = alpha_loop[idx] \n",
    "\n",
    "# Run Ridge with chosen alpha\n",
    "Ridge = linear_model.Ridge(alpha = alpha_optimal_Ridge)\n",
    "Ridge.fit(X_training, Y_training)\n",
    "R2.loc['In_Sample','Ridge']=np.round(Ridge.score(X_training,Y_training), 2) \n",
    "print(\"R_squared for Ridge \"+ str( np.round(Ridge.score(X_training,Y_training), 2) ) )"
   ]
  },
  {
   "cell_type": "markdown",
   "metadata": {},
   "source": [
    "- Tune Elastic net"
   ]
  },
  {
   "cell_type": "code",
   "execution_count": 20,
   "metadata": {
    "collapsed": false
   },
   "outputs": [
    {
     "name": "stdout",
     "output_type": "stream",
     "text": [
      "0.68807949925\n",
      "0.669484062095\n",
      "0.65722286461\n",
      "0.625723774364\n",
      "0.59489894011\n",
      "0.558597249305\n",
      "R_squared for Elastic Net is 0.69\n"
     ]
    }
   ],
   "source": [
    "alpha_loop = [0.01, 0.05, 0.1, 0.2, 0.3, 0.4]\n",
    "r_squared_loop = np.zeros(len(alpha_loop) )\n",
    "\n",
    "for i in range(0, len(alpha_loop)): # Loop over alpha\n",
    "    \n",
    "    # Train for fied alpha\n",
    "    ElasticNet = linear_model.ElasticNet(alpha = alpha_loop[i])\n",
    "    ElasticNet.fit(X_training, Y_training)\n",
    "    \n",
    "    # Save loss function\n",
    "    print(ElasticNet.score(X_training,Y_training))\n",
    "    r_squared_loop[i] = ElasticNet.score(X_training,Y_training)\n",
    "    \n",
    "idx = np.argmax(r_squared_loop)\n",
    "alpha_optimal_ElasticNet = alpha_loop[idx] \n",
    "\n",
    "# Run ElasticNet with chosen alpha\n",
    "ElasticNet = linear_model.ElasticNet(alpha = alpha_optimal_ElasticNet)\n",
    "ElasticNet.fit(X_training, Y_training)\n",
    "R2.loc['In_Sample','ElasticNet']=np.round(ElasticNet.score(X_training,Y_training), 2) \n",
    "print(\"R_squared for Elastic Net is \"+ str(  np.round(ElasticNet.score(X_training,Y_training), 2) ) )"
   ]
  },
  {
   "cell_type": "markdown",
   "metadata": {},
   "source": [
    "# (5) Out of sample performance "
   ]
  },
  {
   "cell_type": "markdown",
   "metadata": {},
   "source": [
    "- Naive PCA"
   ]
  },
  {
   "cell_type": "code",
   "execution_count": 21,
   "metadata": {
    "collapsed": false
   },
   "outputs": [
    {
     "name": "stdout",
     "output_type": "stream",
     "text": [
      "R_squared for Naive OLS 0.63\n"
     ]
    }
   ],
   "source": [
    "Naive_OLS = linear_model.LinearRegression()\n",
    "Naive_OLS.fit(X_training, Y_training)\n",
    "out_sample_fit = Naive_OLS.predict(X_out_sample)\n",
    "R2.loc['Out_Sample','Naive_OLS']=np.round(r2_score(Y_out_sample, out_sample_fit),2)\n",
    "print(\"R_squared for Naive OLS \"  + str( np.round(r2_score(Y_out_sample, out_sample_fit),2) ) )"
   ]
  },
  {
   "cell_type": "markdown",
   "metadata": {},
   "source": [
    "- PCA OLS"
   ]
  },
  {
   "cell_type": "code",
   "execution_count": 22,
   "metadata": {
    "collapsed": false
   },
   "outputs": [
    {
     "name": "stdout",
     "output_type": "stream",
     "text": [
      "R_squared for PCA OLS 0.62\n"
     ]
    }
   ],
   "source": [
    "OLS = linear_model.LinearRegression()\n",
    "OLS.fit(PCA_scores[0:training_size,:], Y_training)\n",
    "out_sample_fit = OLS.predict(PCA_scores[training_size:])\n",
    "R2.loc['Out_Sample','PCA']=np.round(r2_score(Y_out_sample, out_sample_fit),2)\n",
    "print(\"R_squared for PCA OLS \"  + str( np.round(r2_score(Y_out_sample, out_sample_fit),2) ) )"
   ]
  },
  {
   "cell_type": "markdown",
   "metadata": {},
   "source": [
    "- LASSO"
   ]
  },
  {
   "cell_type": "code",
   "execution_count": 23,
   "metadata": {
    "collapsed": false
   },
   "outputs": [
    {
     "name": "stdout",
     "output_type": "stream",
     "text": [
      "R_squared for LASSO 0.64\n"
     ]
    }
   ],
   "source": [
    "# Run LASSO with chosen alpha\n",
    "LASSO = linear_model.Lasso(alpha = alpha_optimal_LASSO)\n",
    "LASSO.fit(X_training, Y_training)\n",
    "R2.loc['Out_Sample','LASSO']= np.round(LASSO.score(X_out_sample,Y_out_sample), 2)\n",
    "print(\"R_squared for LASSO \"+ str( np.round(LASSO.score(X_out_sample,Y_out_sample), 2) ) )"
   ]
  },
  {
   "cell_type": "markdown",
   "metadata": {},
   "source": [
    "- Ridge"
   ]
  },
  {
   "cell_type": "code",
   "execution_count": 24,
   "metadata": {
    "collapsed": false
   },
   "outputs": [
    {
     "name": "stdout",
     "output_type": "stream",
     "text": [
      "R_squared for Ridge 0.63\n"
     ]
    }
   ],
   "source": [
    "# Run  Ridge with chosen alpha\n",
    "Ridge = linear_model.Ridge(alpha = alpha_optimal_Ridge)\n",
    "Ridge.fit(X_training, Y_training)\n",
    "R2.loc['Out_Sample','Ridge']= np.round(Ridge.score(X_out_sample,Y_out_sample), 2)\n",
    "print(\"R_squared for Ridge \"+ str( np.round(Ridge.score(X_out_sample,Y_out_sample), 2) ) )"
   ]
  },
  {
   "cell_type": "markdown",
   "metadata": {},
   "source": [
    "- Elasic Net"
   ]
  },
  {
   "cell_type": "code",
   "execution_count": 25,
   "metadata": {
    "collapsed": false
   },
   "outputs": [
    {
     "name": "stdout",
     "output_type": "stream",
     "text": [
      "R_squared for ElasticNet 0.63\n"
     ]
    },
    {
     "data": {
      "text/html": [
       "<div>\n",
       "<table border=\"1\" class=\"dataframe\">\n",
       "  <thead>\n",
       "    <tr style=\"text-align: right;\">\n",
       "      <th></th>\n",
       "      <th>Naive_OLS</th>\n",
       "      <th>PCA</th>\n",
       "      <th>LASSO</th>\n",
       "      <th>Ridge</th>\n",
       "      <th>ElasticNet</th>\n",
       "    </tr>\n",
       "  </thead>\n",
       "  <tbody>\n",
       "    <tr>\n",
       "      <th>In_Sample</th>\n",
       "      <td>0.70</td>\n",
       "      <td>0.64</td>\n",
       "      <td>0.68</td>\n",
       "      <td>0.71</td>\n",
       "      <td>0.69</td>\n",
       "    </tr>\n",
       "    <tr>\n",
       "      <th>Out_Sample</th>\n",
       "      <td>0.63</td>\n",
       "      <td>0.62</td>\n",
       "      <td>0.64</td>\n",
       "      <td>0.63</td>\n",
       "      <td>0.63</td>\n",
       "    </tr>\n",
       "  </tbody>\n",
       "</table>\n",
       "</div>"
      ],
      "text/plain": [
       "            Naive_OLS   PCA  LASSO  Ridge  ElasticNet\n",
       "In_Sample        0.70  0.64   0.68   0.71        0.69\n",
       "Out_Sample       0.63  0.62   0.64   0.63        0.63"
      ]
     },
     "execution_count": 25,
     "metadata": {},
     "output_type": "execute_result"
    }
   ],
   "source": [
    "# Run Elastic Net with chosen alpha\n",
    "ElasticNet = linear_model.ElasticNet(alpha = alpha_optimal_ElasticNet)\n",
    "ElasticNet.fit(X_training, Y_training)\n",
    "R2.loc['Out_Sample','ElasticNet']= np.round(ElasticNet.score(X_out_sample,Y_out_sample), 2)\n",
    "print(\"R_squared for ElasticNet \"+ str( np.round(ElasticNet.score(X_out_sample,Y_out_sample), 2) ) )\n",
    "R2"
   ]
  }
 ],
 "metadata": {
  "kernelspec": {
   "display_name": "Python 2",
   "language": "python",
   "name": "python2"
  },
  "language_info": {
   "codemirror_mode": {
    "name": "ipython",
    "version": 2
   },
   "file_extension": ".py",
   "mimetype": "text/x-python",
   "name": "python",
   "nbconvert_exporter": "python",
   "pygments_lexer": "ipython2",
   "version": "2.7.13"
  }
 },
 "nbformat": 4,
 "nbformat_minor": 0
}
